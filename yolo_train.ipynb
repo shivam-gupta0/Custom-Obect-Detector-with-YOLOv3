{
  "nbformat": 4,
  "nbformat_minor": 0,
  "metadata": {
    "colab": {
      "name": "yolo_train.ipynb",
      "provenance": [],
      "collapsed_sections": [],
      "machine_shape": "hm"
    },
    "kernelspec": {
      "name": "python3",
      "display_name": "Python 3"
    },
    "language_info": {
      "name": "python"
    },
    "accelerator": "GPU",
    "gpuClass": "standard"
  },
  "cells": [
    {
      "cell_type": "code",
      "source": [
        "from google.colab import drive\n",
        "drive.mount('/content/drive')"
      ],
      "metadata": {
        "colab": {
          "base_uri": "https://localhost:8080/"
        },
        "id": "RDT_spsRHyJt",
        "outputId": "ec04714d-eafb-46e3-dbb9-523f527af588"
      },
      "execution_count": null,
      "outputs": [
        {
          "output_type": "stream",
          "name": "stdout",
          "text": [
            "Mounted at /content/drive\n"
          ]
        }
      ]
    },
    {
      "cell_type": "code",
      "metadata": {
        "id": "QdSgWdQ-F95Z",
        "colab": {
          "base_uri": "https://localhost:8080/"
        },
        "outputId": "23060923-5988-445b-bb30-ce422aa1b8f7"
      },
      "source": [
        "!nvcc --version"
      ],
      "execution_count": null,
      "outputs": [
        {
          "output_type": "stream",
          "name": "stdout",
          "text": [
            "nvcc: NVIDIA (R) Cuda compiler driver\n",
            "Copyright (c) 2005-2020 NVIDIA Corporation\n",
            "Built on Mon_Oct_12_20:09:46_PDT_2020\n",
            "Cuda compilation tools, release 11.1, V11.1.105\n",
            "Build cuda_11.1.TC455_06.29190527_0\n"
          ]
        }
      ]
    },
    {
      "cell_type": "code",
      "metadata": {
        "id": "dD0yLF82GAxt",
        "colab": {
          "base_uri": "https://localhost:8080/"
        },
        "outputId": "f83bda9f-327a-4bc3-b415-d3e8379e4c5f"
      },
      "source": [
        "!git clone 'https://github.com/AlexeyAB/darknet.git' '/content/drive/MyDrive/Yolo_custom_train/darknet'"
      ],
      "execution_count": null,
      "outputs": [
        {
          "output_type": "stream",
          "name": "stdout",
          "text": [
            "Cloning into '/content/drive/MyDrive/Yolo_custom_train/darknet'...\n",
            "remote: Enumerating objects: 15442, done.\u001b[K\n",
            "remote: Counting objects: 100% (18/18), done.\u001b[K\n",
            "remote: Compressing objects: 100% (17/17), done.\u001b[K\n",
            "remote: Total 15442 (delta 1), reused 6 (delta 0), pack-reused 15424\u001b[K\n",
            "Receiving objects: 100% (15442/15442), 14.08 MiB | 7.46 MiB/s, done.\n",
            "Resolving deltas: 100% (10364/10364), done.\n",
            "Checking out files: 100% (2051/2051), done.\n"
          ]
        }
      ]
    },
    {
      "cell_type": "code",
      "source": [
        "!git clone 'http://pjreddie.com/media/files/darknet53.conv.74' '/content/drive/MyDrive/Yolo_custom_train/custom_weight'"
      ],
      "metadata": {
        "colab": {
          "base_uri": "https://localhost:8080/"
        },
        "id": "YBzFhi7_JpsA",
        "outputId": "a6d51f2c-4337-4a14-ac92-f2900f713040"
      },
      "execution_count": null,
      "outputs": [
        {
          "output_type": "stream",
          "name": "stdout",
          "text": [
            "Cloning into '/content/drive/MyDrive/Yolo_custom_train/custom_weight'...\n",
            "fatal: repository 'http://pjreddie.com/media/files/darknet53.conv.74/' not found\n"
          ]
        }
      ]
    },
    {
      "cell_type": "code",
      "metadata": {
        "id": "ldBN-pk7GGUH",
        "colab": {
          "base_uri": "https://localhost:8080/"
        },
        "outputId": "9e7d7f32-01d5-458d-dc33-d82105d4294c"
      },
      "source": [
        "!ls"
      ],
      "execution_count": null,
      "outputs": [
        {
          "output_type": "stream",
          "name": "stdout",
          "text": [
            "drive  sample_data\n"
          ]
        }
      ]
    },
    {
      "cell_type": "code",
      "metadata": {
        "colab": {
          "base_uri": "https://localhost:8080/"
        },
        "id": "4qfzQ9bVGQ24",
        "outputId": "7f0eab8f-78c9-4727-f30c-5956ac76aa28"
      },
      "source": [
        "%cd /content/drive/MyDrive/Yolo_custom_train"
      ],
      "execution_count": null,
      "outputs": [
        {
          "output_type": "stream",
          "name": "stdout",
          "text": [
            "/content/drive/MyDrive/Yolo_custom_train\n"
          ]
        }
      ]
    },
    {
      "cell_type": "code",
      "source": [
        "!ls"
      ],
      "metadata": {
        "colab": {
          "base_uri": "https://localhost:8080/"
        },
        "id": "EZ1hHpMEgqVD",
        "outputId": "cc611b35-a411-44bb-f8f9-d9cd0338fce0"
      },
      "execution_count": null,
      "outputs": [
        {
          "output_type": "stream",
          "name": "stdout",
          "text": [
            "backup\tCUSTOM_DATA_yolo  custom_weight  darknet\n"
          ]
        }
      ]
    },
    {
      "cell_type": "code",
      "metadata": {
        "colab": {
          "base_uri": "https://localhost:8080/"
        },
        "id": "yRnnXj_KGCLt",
        "outputId": "f5915402-b4c9-4a4d-816e-75caa3215303"
      },
      "source": [
        "%cd /content/drive/MyDrive/Yolo_custom_train/darknet"
      ],
      "execution_count": null,
      "outputs": [
        {
          "output_type": "stream",
          "name": "stdout",
          "text": [
            "/content/drive/MyDrive/Yolo_custom_train/darknet\n"
          ]
        }
      ]
    },
    {
      "cell_type": "code",
      "metadata": {
        "id": "kMfF-zZbGMf7"
      },
      "source": [
        "!make"
      ],
      "execution_count": null,
      "outputs": []
    },
    {
      "cell_type": "code",
      "source": [
        "%cd /content/drive/MyDrive/Yolo_custom_train"
      ],
      "metadata": {
        "colab": {
          "base_uri": "https://localhost:8080/"
        },
        "id": "3w-7-JPoSb3r",
        "outputId": "693d637f-5fec-4acd-d439-f9ecdb50c5b9"
      },
      "execution_count": null,
      "outputs": [
        {
          "output_type": "stream",
          "name": "stdout",
          "text": [
            "/content/drive/MyDrive/Yolo_custom_train\n"
          ]
        }
      ]
    },
    {
      "cell_type": "code",
      "source": [
        "!darknet/darknet"
      ],
      "metadata": {
        "colab": {
          "base_uri": "https://localhost:8080/"
        },
        "id": "YqzrqRpKUgme",
        "outputId": "43b542e1-c036-455b-bbe0-b40f186fc479"
      },
      "execution_count": null,
      "outputs": [
        {
          "output_type": "stream",
          "name": "stdout",
          "text": [
            "usage: darknet/darknet <function>\n"
          ]
        }
      ]
    },
    {
      "cell_type": "code",
      "metadata": {
        "id": "Fe-K77MSGU1p"
      },
      "source": [
        "!darknet/darknet detector train CUSTOM_DATA_yolo/labelled_data.data darknet/cfg/yolov3.cfg custom_weight/darknet53.conv.74 -dont_show"
      ],
      "execution_count": null,
      "outputs": []
    }
  ]
}